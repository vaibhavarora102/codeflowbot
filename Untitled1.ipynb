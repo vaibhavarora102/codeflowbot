{
 "cells": [
  {
   "cell_type": "code",
   "execution_count": 1,
   "metadata": {},
   "outputs": [],
   "source": [
    "from telegram.ext import Updater, CommandHandler, CallbackContext\n"
   ]
  },
  {
   "cell_type": "code",
   "execution_count": null,
   "metadata": {},
   "outputs": [
    {
     "name": "stderr",
     "output_type": "stream",
     "text": [
      "Exiting immediately!\n"
     ]
    }
   ],
   "source": [
    "import constant as keys\n",
    "# from python-telgram-bot import *\n",
    "import responses as R\n",
    "# from mk.telegram import Update\n",
    "from telegram.ext import Updater, CommandHandler, CallbackContext, MessageHandler, Filters\n",
    "\n",
    "def start_command(update, context):\n",
    "    update.message.reply_text('type something')\n",
    "\n",
    "def help_command(update, context):\n",
    "    update.message.reply_text('type something --- 2')\n",
    "\n",
    "def handle_message(update, context):\n",
    "    text = str(update.message.text).lower()\n",
    "    response = R.sample_response(text)\n",
    "    update.message.reply_text(response)\n",
    "\n",
    "\n",
    "def error(update, context):\n",
    "    print(\"error\")\n",
    "\n",
    "def main():\n",
    "    updater = Updater(keys.API_key, use_context=True)\n",
    "    dp = updater.dispatcher\n",
    "\n",
    "    dp.add_handler(CommandHandler(\"start\", start_command))\n",
    "    dp.add_handler(MessageHandler(Filters.text, handle_message))\n",
    "    updater.start_polling(60)\n",
    "    updater.idle()\n",
    "\n",
    "main()"
   ]
  },
  {
   "cell_type": "code",
   "execution_count": null,
   "metadata": {},
   "outputs": [],
   "source": []
  },
  {
   "cell_type": "code",
   "execution_count": null,
   "metadata": {},
   "outputs": [],
   "source": [
    "pk"
   ]
  },
  {
   "cell_type": "code",
   "execution_count": null,
   "metadata": {},
   "outputs": [],
   "source": []
  }
 ],
 "metadata": {
  "kernelspec": {
   "display_name": "Python 3",
   "language": "python",
   "name": "python3"
  },
  "language_info": {
   "codemirror_mode": {
    "name": "ipython",
    "version": 3
   },
   "file_extension": ".py",
   "mimetype": "text/x-python",
   "name": "python",
   "nbconvert_exporter": "python",
   "pygments_lexer": "ipython3",
   "version": "3.7.9"
  }
 },
 "nbformat": 4,
 "nbformat_minor": 4
}
